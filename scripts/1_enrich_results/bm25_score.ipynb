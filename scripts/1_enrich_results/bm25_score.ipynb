{
 "cells": [
  {
   "cell_type": "code",
   "execution_count": 1,
   "metadata": {},
   "outputs": [
    {
     "name": "stdout",
     "output_type": "stream",
     "text": [
      "\n"
     ]
    },
    {
     "name": "stderr",
     "output_type": "stream",
     "text": [
      "[nltk_data] Downloading package punkt to /home/bec/nltk_data...\n",
      "[nltk_data]   Package punkt is already up-to-date!\n"
     ]
    }
   ],
   "source": [
    "from fastbm25 import fastbm25\n",
    "import pandas as pd\n",
    "import nltk\n",
    "nltk.download('punkt')\n",
    "import ast\n",
    "\n",
    "\n",
    "# DATASET COM AS EXPANSÕES ENRIQUECIDAS (As que são efetivamente utilizadas)\n",
    "full_dataset = pd.read_csv(\n",
    "    \"./queries_train_judged_expanded_enriched.csv\",\n",
    "    sep='\\t',\n",
    "    index_col=0\n",
    ")\n",
    "\n",
    "# DATASET COM TODAS AS EXPANSÕES E AS\n",
    "samples = pd.DataFrame(pd.read_pickle(\"../../input_data/samples.pkl\"))\n",
    "\"\"\"\n",
    "Formato esperado para samples.pkl\n",
    "[{\n",
    "    'idx': 0, \n",
    "    'query_idx': 19335, \n",
    "    'query': 'anthropological definition of environment', \n",
    "    'passage_idx': 1017759, \n",
    "    'passage': 'Man and environment'\n",
    "    }, \n",
    "{...}, ...]\n",
    "\n",
    "\"\"\"\n",
    "print()"
   ]
  },
  {
   "cell_type": "markdown",
   "metadata": {},
   "source": [
    "## Cria o modelo BM25 para rankeamento das consultas"
   ]
  },
  {
   "cell_type": "code",
   "execution_count": 2,
   "metadata": {},
   "outputs": [],
   "source": [
    "# Extrair os índices das passagens presentes no dicionário da coluna original_passage_scores\n",
    "passage_indices = set()\n",
    "for scores_dict in full_dataset['original_passage_scores']:\n",
    "    for original_key in ast.literal_eval(scores_dict).keys():\n",
    "        passage_indices.add(int(original_key.split(\"_\")[1]))\n",
    "\n",
    "# Filtrar as passagens no dataframe samples cujos índices estão em passage_indices\n",
    "filtered_passages = samples[samples['passage_idx'].isin(passage_indices)]\n",
    "filtered_passages\n",
    "\n",
    "# Remover duplicatas e obter a lista de passagens únicas\n",
    "unique_passages = filtered_passages[['passage_idx', 'passage']].drop_duplicates()\n",
    "\n",
    "# Extrair os IDs e textos das passagens únicas\n",
    "passage_ids = unique_passages['passage_idx'].tolist()\n",
    "passage_texts = unique_passages['passage'].tolist()\n",
    "\n",
    "# Toquenização\n",
    "tokenized_passages = []\n",
    "for text in passage_texts:\n",
    "    tokenized_passages.append(nltk.word_tokenize(text))\n",
    "\n",
    "# Cria o modelo\n",
    "model = fastbm25(tokenized_passages) "
   ]
  },
  {
   "cell_type": "markdown",
   "metadata": {},
   "source": [
    "## Aplica o modelo ao dataset"
   ]
  },
  {
   "cell_type": "code",
   "execution_count": 3,
   "metadata": {},
   "outputs": [],
   "source": [
    "# Agora que consigo calcular os runs de cada consulta usando o bm25, preciso aplicar isso no full_dataset, em uma coluna adicional\n",
    "\n",
    "def calculate_bm25_scores(query:str, model:fastbm25):\n",
    "     \n",
    "    tokenized_query = nltk.word_tokenize(query)\n",
    "    scores = model.top_k_sentence(tokenized_query, k=20)\n",
    "    \n",
    "    passage_scores = []\n",
    "    for score in scores:\n",
    "        passage_id = passage_ids[score[1]]\n",
    "        passage_scores.append((passage_id, score[2]))\n",
    "\n",
    "    scores_dict = {f\"passage_{id}\": score for id, score in passage_scores}\n",
    "\n",
    "    return str(scores_dict)\n",
    "    \n",
    "\n",
    "\n",
    "full_dataset['bm25_scores'] = full_dataset.apply(lambda row: calculate_bm25_scores(row['query_expandida'], model), axis=1)"
   ]
  },
  {
   "cell_type": "code",
   "execution_count": 4,
   "metadata": {},
   "outputs": [],
   "source": [
    "# Salva o resultado\n",
    "full_dataset.to_csv(f'./queries_train_judged_expanded_enriched.csv', sep=\"\\t\")"
   ]
  },
  {
   "cell_type": "code",
   "execution_count": null,
   "metadata": {},
   "outputs": [],
   "source": []
  }
 ],
 "metadata": {
  "kernelspec": {
   "display_name": "venv",
   "language": "python",
   "name": "python3"
  },
  "language_info": {
   "codemirror_mode": {
    "name": "ipython",
    "version": 3
   },
   "file_extension": ".py",
   "mimetype": "text/x-python",
   "name": "python",
   "nbconvert_exporter": "python",
   "pygments_lexer": "ipython3",
   "version": "3.10.12"
  }
 },
 "nbformat": 4,
 "nbformat_minor": 2
}
